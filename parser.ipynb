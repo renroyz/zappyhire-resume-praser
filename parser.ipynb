{
  "nbformat": 4,
  "nbformat_minor": 0,
  "metadata": {
    "colab": {
      "name": "parser.ipynb",
      "provenance": [],
      "collapsed_sections": [],
      "toc_visible": true
    },
    "kernelspec": {
      "name": "python3",
      "display_name": "Python 3"
    },
    "language_info": {
      "name": "python"
    }
  },
  "cells": [
    {
      "cell_type": "code",
      "execution_count": 1,
      "metadata": {
        "id": "mwcBN3vjqAPv",
        "colab": {
          "base_uri": "https://localhost:8080/"
        },
        "outputId": "8ef156c7-a62d-4170-cef2-86b98639a2b8"
      },
      "outputs": [
        {
          "output_type": "stream",
          "name": "stdout",
          "text": [
            "Looking in indexes: https://pypi.org/simple, https://us-python.pkg.dev/colab-wheels/public/simple/\n",
            "Requirement already satisfied: pypdf2 in /usr/local/lib/python3.7/dist-packages (2.10.3)\n",
            "Requirement already satisfied: typing-extensions in /usr/local/lib/python3.7/dist-packages (from pypdf2) (4.1.1)\n"
          ]
        }
      ],
      "source": [
        "pip install pypdf2"
      ]
    },
    {
      "cell_type": "code",
      "source": [
        "import PyPDF2"
      ],
      "metadata": {
        "id": "1dMKpos7uWJT"
      },
      "execution_count": 2,
      "outputs": []
    },
    {
      "cell_type": "code",
      "source": [
        "pdfFileObj = open('/resume.pdf', 'rb')"
      ],
      "metadata": {
        "id": "Rdi8qmsWukq0"
      },
      "execution_count": 3,
      "outputs": []
    },
    {
      "cell_type": "code",
      "source": [
        "# creating a pdf reader object\n",
        "pdfReader = PyPDF2.PdfFileReader(pdfFileObj)"
      ],
      "metadata": {
        "id": "bvXrkkcgxsK8"
      },
      "execution_count": 4,
      "outputs": []
    },
    {
      "cell_type": "code",
      "source": [
        "pageobj = pdfReader.getPage(0)"
      ],
      "metadata": {
        "id": "ttQi0VXAzWX6"
      },
      "execution_count": 5,
      "outputs": []
    },
    {
      "cell_type": "code",
      "source": [
        "print(pageobj.extractText())"
      ],
      "metadata": {
        "id": "q2ssvTs4zc15",
        "colab": {
          "base_uri": "https://localhost:8080/"
        },
        "outputId": "01cb0ed7-ace3-44f3-fa71-d8395055bfb2"
      },
      "execution_count": 6,
      "outputs": [
        {
          "output_type": "stream",
          "name": "stdout",
          "text": [
            "Omkar Pathak\n",
            "SOFTWAREENGINEER · FULLSTACKPYTHONDEVELOPER\n",
            "Pune, Maharashtra, India\n",
            "(+91) 8087996634 | omkarpathak27@gmail.com | www.omkarpathak.in | OmkarPathak | omkar-pathak-94473811b\n",
            "“Makethechangethatyouwanttoseeintheworld.”\n",
            "Experience\n",
            "Schlumberger Pune,Maharashtra,India\n",
            "DATAENGINEER July2018-Present\n",
            "•Responsibleforimplementingandmanaginganend-to-endCI/CDPipelinewithcustomvalidationsforInformaticamigrationswhich\n",
            "broughtmigrationtimeto1.5hoursfrom9hourswithoutanymanualintervention\n",
            "•Enhancing,auditingandmaintainingcustomdataingestionframeworkthatingestaround1TBofdataeachdaytoover70business\n",
            "units\n",
            "•WorkingwithL3developerteamtoensurethediscussedScrumPBI’saredeliveredontimefordataingestions\n",
            "•PlanningandExecutingQAandProductionReleaseCycleactivities\n",
            "Truso Pune,Maharashtra,India\n",
            "FULLSTACKDEVELOPERINTERN June2018-July2018\n",
            "•CreatedRESTfulapis\n",
            "•TriedmyhandsonAngular5/6\n",
            "•WasresponsibleforDjangobackenddevelopment\n",
            "Propeluss Pune,Maharashtra,India\n",
            "DATAENGINEERINGINTERN October2017-January2018\n",
            "•Wrotevariousautomationscriptstoscrapedatafromvariouswebsites.\n",
            "•Applied Natural Language Processing to articles scraped from the internet to extract different entities in these articles using entity\n",
            "extractionalgorithmsandapplyingMachineLearningtoclassifythesearticles.\n",
            "•AlsoappliedKNNwithLSAforextractingrelevanttagsforvariousstartupsbasedontheirworks.\n",
            "GeeksForGeeks Pune,Maharashtra,India\n",
            "TECHNICALCONTENTWRITER July2017-September2017\n",
            "•Published4articlesforthetopicssuchasDataStructuresandAlgorithmsandPython\n",
            "SofttestlabTechnologies Pune,Maharashtra,India\n",
            "WEBDEVELOPERINTERN June2017-July2017\n",
            "•WasresponsibleforcreatinganinternalprojectforthecompanyusingPHPandLaravelfortestingpurposes\n",
            "•WorkedonaliveprojectforcreatingclosurereportsusingPHPandExcel\n",
            "Projects\n",
            "Pyresparser API/PythonPackage\n",
            "PERSONALPROJECT July2019-Present\n",
            "•Asimpleresumeparserusedforextractinginformationfromresumes\n",
            "•Extractinformationfromthousandsofresumesinjustafewseconds\n",
            "•Authorandmaintainerofthisproject\n",
            "GarbageLevelMonitoringSystem IoT\n",
            "TEAMPROJECT October2017-May2018\n",
            "•Tofindaeconomicalandsmarteralternativetocurrentgarbageproblems\n",
            "•Userscanmonitorlevelsofallgarbagebinsfromaglobaldashboardprovided\n",
            "•WasresponsibleforDjangobackenddevelopment\n",
            "NOVEMBER3,2019 OMKARPATHAK · RÉSUMÉ 1\n"
          ]
        }
      ]
    },
    {
      "cell_type": "code",
      "source": [
        "text=pageobj.extractText()"
      ],
      "metadata": {
        "id": "MeAVsLB53NLl"
      },
      "execution_count": 7,
      "outputs": []
    },
    {
      "cell_type": "code",
      "source": [
        "import re\n",
        "\n",
        "EMAIL_REG = re.compile(r'[a-z0-9\\.\\-+_]+@[a-z0-9\\.\\-+_]+\\.[a-z]+')\n",
        "\n",
        "re.findall(EMAIL_REG, text)"
      ],
      "metadata": {
        "id": "h5GzsBXalRqe",
        "colab": {
          "base_uri": "https://localhost:8080/"
        },
        "outputId": "bf125180-206c-4189-d465-9920e1f1380f"
      },
      "execution_count": 8,
      "outputs": [
        {
          "output_type": "execute_result",
          "data": {
            "text/plain": [
              "['omkarpathak27@gmail.com']"
            ]
          },
          "metadata": {},
          "execution_count": 8
        }
      ]
    },
    {
      "cell_type": "code",
      "source": [
        "ph = re.compile(r\"\\d\\d\\d\\d\\d\\d\\d\\d\\d\\d\\d\\d\")\n",
        "\n",
        "a=re.findall(ph,text)\n",
        "if len(a)==0:\n",
        "  ph = re.compile(r\"\\d\\d\\d\\d\\d\\d\\d\\d\\d\\d\")\n",
        "  a=re.findall(ph,text)\n",
        "print(a)"
      ],
      "metadata": {
        "id": "uWUsWlRxm5ND",
        "colab": {
          "base_uri": "https://localhost:8080/"
        },
        "outputId": "b7f41725-6ee1-4d09-bc34-ec665857069d"
      },
      "execution_count": 9,
      "outputs": [
        {
          "output_type": "stream",
          "name": "stdout",
          "text": [
            "['8087996634']\n"
          ]
        }
      ]
    },
    {
      "cell_type": "code",
      "source": [
        "import csv"
      ],
      "metadata": {
        "id": "AwevHjYOtTpa"
      },
      "execution_count": 10,
      "outputs": []
    },
    {
      "cell_type": "code",
      "source": [
        "import nltk\n",
        "nltk.download('punkt')"
      ],
      "metadata": {
        "colab": {
          "base_uri": "https://localhost:8080/"
        },
        "id": "eGptK2wG3t_L",
        "outputId": "a2b5d9e1-4084-47a3-dd0b-c42edcedb32f"
      },
      "execution_count": 11,
      "outputs": [
        {
          "output_type": "stream",
          "name": "stderr",
          "text": [
            "[nltk_data] Downloading package punkt to /root/nltk_data...\n",
            "[nltk_data]   Package punkt is already up-to-date!\n"
          ]
        },
        {
          "output_type": "execute_result",
          "data": {
            "text/plain": [
              "True"
            ]
          },
          "metadata": {},
          "execution_count": 11
        }
      ]
    },
    {
      "cell_type": "code",
      "source": [
        "from nltk import word_tokenize"
      ],
      "metadata": {
        "id": "dAh97J9m4Rh9"
      },
      "execution_count": 12,
      "outputs": []
    },
    {
      "cell_type": "code",
      "source": [
        "tk=word_tokenize(text)"
      ],
      "metadata": {
        "id": "26Q2GDDM4rOM"
      },
      "execution_count": 13,
      "outputs": []
    },
    {
      "cell_type": "code",
      "source": [
        "l=[]\n",
        "with open('/skills.csv', 'r') as f:\n",
        "  reader = csv.reader(f)\n",
        "  for j in text:\n",
        "    if j in reader:\n",
        "      l.append(j)\n"
      ],
      "metadata": {
        "id": "uaU3u2-Rx7oP"
      },
      "execution_count": 17,
      "outputs": []
    }
  ]
}